{
 "cells": [
  {
   "cell_type": "code",
   "execution_count": 36,
   "metadata": {},
   "outputs": [
    {
     "name": "stdout",
     "output_type": "stream",
     "text": [
      "EPOCH 0: Cost = 14077509.000, gradx = 7504.000, x = 3752.000\n",
      "EPOCH 1: Cost = 5067906.440, gradx = -4502.400, x = -2251.200\n",
      "EPOCH 2: Cost = 1824449.518, gradx = 2701.440, x = 1350.720\n",
      "EPOCH 3: Cost = 656805.027, gradx = -1620.864, x = -810.432\n",
      "EPOCH 4: Cost = 236453.010, gradx = 972.518, x = 486.259\n",
      "EPOCH 5: Cost = 85126.283, gradx = -583.511, x = -291.756\n",
      "EPOCH 6: Cost = 30648.662, gradx = 350.107, x = 175.053\n",
      "EPOCH 7: Cost = 11036.718, gradx = -210.064, x = -105.032\n",
      "EPOCH 8: Cost = 3976.419, gradx = 126.038, x = 63.019\n",
      "EPOCH 9: Cost = 1434.711, gradx = -75.623, x = -37.812\n",
      "EPOCH 10: Cost = 519.696, gradx = 45.374, x = 22.687\n",
      "EPOCH 11: Cost = 190.291, gradx = -27.224, x = -13.612\n",
      "EPOCH 12: Cost = 71.705, gradx = 16.335, x = 8.167\n",
      "EPOCH 13: Cost = 29.014, gradx = -9.801, x = -4.900\n",
      "EPOCH 14: Cost = 13.645, gradx = 5.880, x = 2.940\n",
      "EPOCH 15: Cost = 8.112, gradx = -3.528, x = -1.764\n",
      "EPOCH 16: Cost = 6.120, gradx = 2.117, x = 1.058\n",
      "EPOCH 17: Cost = 5.403, gradx = -1.270, x = -0.635\n",
      "EPOCH 18: Cost = 5.145, gradx = 0.762, x = 0.381\n",
      "EPOCH 19: Cost = 5.052, gradx = -0.457, x = -0.229\n",
      "EPOCH 20: Cost = 5.019, gradx = 0.274, x = 0.137\n"
     ]
    },
    {
     "data": {
      "text/plain": [
       "Text(0,0.5,'Cost')"
      ]
     },
     "execution_count": 36,
     "metadata": {},
     "output_type": "execute_result"
    },
    {
     "data": {
      "image/png": "[encoded data removed]",
      "text/plain": [
       "<matplotlib.figure.Figure at 0x11ba63048>"
      ]
     },
     "metadata": {},
     "output_type": "display_data"
    }
   ],
   "source": [
    "def gradient_descent_update(x, gradx, learning_rate):\n",
    "    \"\"\"\n",
    "    Performs a gradient descent update.\n",
    "    \"\"\"\n",
    "    # TODO: Implement gradient descent.\n",
    "    x = x - learning_rate * gradx\n",
    "    # Return the new value for x\n",
    "    return x\n",
    "\n",
    "\n",
    "\"\"\"\n",
    "Given the starting point of any `x` gradient descent\n",
    "should be able to find the minimum value of x for the\n",
    "cost function `f` defined below.\n",
    "\"\"\"\n",
    "import random\n",
    "# from gd import gradient_descent_update\n",
    "\n",
    "\n",
    "def f(x):\n",
    "    \"\"\"\n",
    "    Quadratic function.\n",
    "\n",
    "    It's easy to see the minimum value of the function\n",
    "    is 5 when is x=0.\n",
    "    \"\"\"\n",
    "    return x**2 + 5\n",
    "\n",
    "\n",
    "def df(x):\n",
    "    \"\"\"\n",
    "    Derivative of `f` with respect to `x`.\n",
    "    \"\"\"\n",
    "    return 2*x\n",
    "\n",
    "\n",
    "# Random number between 0 and 10,000. Feel free to set x whatever you like.\n",
    "x = random.randint(0, 10000)\n",
    "# TODO: Set the learning rate\n",
    "learning_rate = 0.8\n",
    "epochs = 20\n",
    "\n",
    "cost_arr = []\n",
    "iteration_arr = []\n",
    "x_arr = []\n",
    "\n",
    "for i in range(epochs+1):\n",
    "    cost = f(x)\n",
    "    gradx = df(x)\n",
    "    print(\"EPOCH {}: Cost = {:.3f}, gradx = {:.3f}, x = {:.3f}\".format(i, cost, gradx, x))\n",
    "    \n",
    "    cost_arr.append(cost)\n",
    "    x_arr.append(x)\n",
    "    iteration_arr.append(i)\n",
    "    \n",
    "    x = gradient_descent_update(x, gradx, learning_rate)\n",
    "    \n",
    "    \n",
    "\n",
    "import matplotlib.pyplot as plt\n",
    "%matplotlib inline\n",
    "\n",
    "fig = plt.figure()\n",
    "ax = fig.add_subplot(111)\n",
    "plt.plot(iteration_arr, cost_arr)\n",
    "\n",
    "ax.set_xlabel('Iteration')\n",
    "ax.set_ylabel('Cost')\n",
    "\n"
   ]
  },
  {
   "cell_type": "code",
   "execution_count": 38,
   "metadata": {},
   "outputs": [
    {
     "name": "stdout",
     "output_type": "stream",
     "text": [
      "range(-2251, 3752, 200)\n",
      "[[5067006], [4206606], [3426206], [2725806], [2105406], [1565006], [1104606], [724206], [423806], [203406], [63006], [2606], [22206], [121806], [301406], [561006], [900606], [1320206], [1819806], [2399406], [3059006], [3798606], [4618206], [5517806], [6497406], [7557006], [8696606], [9916206], [11215806], [12595406], [14055006]]\n"
     ]
    },
    {
     "data": {
      "text/plain": [
       "[<matplotlib.lines.Line2D at 0x11c2d2940>]"
      ]
     },
     "execution_count": 38,
     "metadata": {},
     "output_type": "execute_result"
    },
    {
     "data": {
      "image/png": "[encoded data removed]",
      "text/plain": [
       "<matplotlib.figure.Figure at 0x11be5f320>"
      ]
     },
     "metadata": {},
     "output_type": "display_data"
    }
   ],
   "source": [
    "fig = plt.figure()\n",
    "ax = fig.add_subplot(111)\n",
    "plt.plot(x_arr, cost_arr)\n",
    "\n",
    "ax.set_xlabel('x')\n",
    "ax.set_ylabel('Cost')\n",
    "\n",
    "x_min = int(min(x_arr))\n",
    "x_max = int(max(x_arr))\n",
    "x_equal_range = range(x_min, x_max, 200)\n",
    "y_equal_range = [[x**2+5] for x in x_equal_range]\n",
    "print(x_equal_range)\n",
    "print(y_equal_range)\n",
    "\n",
    "plt.plot(x_equal_range, y_equal_range)"
   ]
  },
  {
   "cell_type": "code",
   "execution_count": null,
   "metadata": {
    "collapsed": true
   },
   "outputs": [],
   "source": []
  }
 ],
 "metadata": {
  "kernelspec": {
   "display_name": "Python 3",
   "language": "python",
   "name": "python3"
  },
  "language_info": {
   "codemirror_mode": {
    "name": "ipython",
    "version": 3
   },
   "file_extension": ".py",
   "mimetype": "text/x-python",
   "name": "python",
   "nbconvert_exporter": "python",
   "pygments_lexer": "ipython3",
   "version": "3.6.3"
  }
 },
 "nbformat": 4,
 "nbformat_minor": 2
}
